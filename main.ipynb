{
 "cells": [
  {
   "cell_type": "code",
   "execution_count": 1,
   "id": "83884464-36a0-490b-99e6-be577a259ca6",
   "metadata": {},
   "outputs": [],
   "source": [
    "import pandas as pd\n",
    "from src import bayesian_3pt_percentage_with_credible_interval"
   ]
  },
  {
   "cell_type": "code",
   "execution_count": 2,
   "id": "1e8b8b48-1373-47d1-8af4-5913d3c4dd88",
   "metadata": {},
   "outputs": [],
   "source": [
    "player_data_2023 = pd.read_csv(\"Data/input/PlayerData2021-22.csv\")"
   ]
  },
  {
   "cell_type": "code",
   "execution_count": 3,
   "id": "21a4a1d0-305b-4995-b268-b9196c579325",
   "metadata": {},
   "outputs": [],
   "source": [
    "players = []\n",
    "bayesian_three_perc = []\n",
    "credible_interval = []"
   ]
  },
  {
   "cell_type": "code",
   "execution_count": 4,
   "id": "ef5f6b02-4268-4536-b48b-c2207c88f1d5",
   "metadata": {},
   "outputs": [],
   "source": [
    "for index, row in player_data_2023.iterrows():\n",
    "    if row[\"3PA\"] > 0:\n",
    "        players.append(row[\"PLAYER\"])\n",
    "        perc, interval = bayesian_3pt_percentage_with_credible_interval(float(row[\"3P%\"])/100, row[\"3PA\"], row[\"3PM\"])\n",
    "        bayesian_three_perc.append(perc)\n",
    "        credible_interval.append(interval)"
   ]
  },
  {
   "cell_type": "code",
   "execution_count": 5,
   "id": "f91f7e5c-6391-40f9-ac2e-16daeba038c5",
   "metadata": {},
   "outputs": [],
   "source": [
    "out_dict = {\"PLAYER\": players, \"3P%\": bayesian_three_perc, \"CI\": credible_interval, \"3PA\": player_data_2023[player_data_2023[\"3PA\"]>0][\"3PA\"].tolist()}\n",
    "df = pd.DataFrame(out_dict)\n",
    "df.to_csv(\"Data/output/player_output_2021-22.csv\")"
   ]
  },
  {
   "cell_type": "code",
   "execution_count": null,
   "id": "fe51a130-b784-4dce-87aa-cf6fc6219179",
   "metadata": {},
   "outputs": [],
   "source": []
  }
 ],
 "metadata": {
  "kernelspec": {
   "display_name": "Python 3 (ipykernel)",
   "language": "python",
   "name": "python3"
  },
  "language_info": {
   "codemirror_mode": {
    "name": "ipython",
    "version": 3
   },
   "file_extension": ".py",
   "mimetype": "text/x-python",
   "name": "python",
   "nbconvert_exporter": "python",
   "pygments_lexer": "ipython3",
   "version": "3.11.4"
  }
 },
 "nbformat": 4,
 "nbformat_minor": 5
}
