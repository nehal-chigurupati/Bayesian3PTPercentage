{
  "cells": [
    {
      "cell_type": "code",
      "execution_count": null,
      "metadata": {
        "id": "XU-MKOnWj0Uq"
      },
      "outputs": [],
      "source": [
        "from filterpy.kalman import KalmanFilter"
      ]
    },
    {
      "cell_type": "code",
      "execution_count": null,
      "metadata": {
        "id": "13JqeNoIH_th"
      },
      "outputs": [],
      "source": [
        "import matplotlib.pyplot as plt\n",
        "import numpy as np\n",
        "from scipy import stats\n",
        "import seaborn as sns\n",
        "import pymc as pm\n",
        "import arviz as az\n",
        "from retry import retry\n",
        "from tqdm import tqdm\n",
        "from fastprogress import fastprogress\n",
        "fastprogress.printing = lambda: True"
      ]
    },
    {
      "cell_type": "code",
      "execution_count": null,
      "metadata": {
        "id": "XByjLRDgpKBA"
      },
      "outputs": [],
      "source": [
        "from nba_api.stats.static import players\n",
        "from nba_api.stats.endpoints import playercareerstats, playergamelog\n",
        "from nba_api.stats.endpoints import commonplayerinfo\n",
        "import pandas as pd\n",
        "import time"
      ]
    },
    {
      "cell_type": "markdown",
      "metadata": {
        "id": "XOHleQpProyC"
      },
      "source": [
        "**Get player 3 point shooting data**"
      ]
    },
    {
      "cell_type": "code",
      "execution_count": null,
      "metadata": {
        "id": "0eFLe0qSrmtN"
      },
      "outputs": [],
      "source": [
        "@retry()\n",
        "def get_player_game_percentages(player_id):\n",
        "  all_seasons = playercareerstats.PlayerCareerStats(player_id=player_id).get_data_frames()[0][\"SEASON_ID\"].tolist()\n",
        "  logs = []\n",
        "  for i in all_seasons:\n",
        "    logs.append(playergamelog.PlayerGameLog(player_id=player_id, season=i).get_data_frames()[0])\n",
        "    time.sleep(.25)\n",
        "\n",
        "  log = pd.concat(logs)\n",
        "  log = log.sort_values('Game_ID')\n",
        "\n",
        "  attempts = log[\"FG3A\"]\n",
        "  makes = log[\"FG3M\"]\n",
        "  total_attempts = attempts.sum()\n",
        "  total_makes = makes.sum()\n",
        "  career_percentage = total_makes / total_attempts\n",
        "\n",
        "  return attempts.tolist(), makes.tolist(), career_percentage"
      ]
    },
    {
      "cell_type": "code",
      "execution_count": null,
      "metadata": {
        "id": "k5y5g310lQbs"
      },
      "outputs": [],
      "source": [
        "def convert_to_binary_array(attempts, makes):\n",
        "    arr = []\n",
        "    for attempt, make in zip(attempts, makes):\n",
        "        arr.extend([1] * make)\n",
        "        arr.extend([0] * (attempt - make))\n",
        "    return arr"
      ]
    },
    {
      "cell_type": "code",
      "execution_count": null,
      "metadata": {
        "id": "4YFMwg1jU69e"
      },
      "outputs": [],
      "source": [
        "def b3P(player_id):\n",
        "  shooting_attempts, shooting_successes, perc = get_player_game_percentages(player_id)\n",
        "  shots = convert_to_binary_array(shooting_attempts, shooting_successes)\n",
        "\n",
        "  with pm.Model() as model:\n",
        "\n",
        "      theta = pm.Beta('theta', alpha=1, beta=1)\n",
        "      y = pm.Bernoulli('y', p=theta, observed=shots)\n",
        "\n",
        "      start = pm.find_MAP()\n",
        "      step = pm.Metropolis()\n",
        "      trace = pm.sample(len(shots), step=step, start=start)\n",
        "      summary_stats = az.summary(trace, var_names=['theta'], hdi_prob=0.95)\n",
        "      mean = summary_stats.loc['theta', 'mean']\n",
        "      hdi_lower = summary_stats.loc['theta', 'hdi_2.5%']\n",
        "      hdi_upper = summary_stats.loc['theta', 'hdi_97.5%']\n",
        "\n",
        "  #return mean_shooting_skill, hdi_lower, hdi_upper\n",
        "\n",
        "  return trace, mean, hdi_lower, hdi_upper"
      ]
    },
    {
      "cell_type": "code",
      "execution_count": null,
      "metadata": {
        "id": "PGCuUobtua09"
      },
      "outputs": [],
      "source": [
        "def b3P_arr(player_id, stepsize):\n",
        "  shooting_attempts, shooting_successes, perc = get_player_game_percentages(player_id)\n",
        "  shots = convert_to_binary_array(shooting_attempts, shooting_successes)\n",
        "  mean_arr = []\n",
        "  hdi_lower_arr = []\n",
        "  hdi_upper_arr = []\n",
        "  stepsize = int(len(shots) / 100)\n",
        "  for i in tqdm(range(0, len(shots), stepsize)):\n",
        "    with pm.Model() as model:\n",
        "      upper_ind = int(max(len(shots), i + stepsize))\n",
        "      subset_shots = shots[0:upper_ind]\n",
        "      theta = pm.Beta('theta', alpha=1, beta=1)\n",
        "      y = pm.Bernoulli('y', p=theta, observed=subset_shots)\n",
        "\n",
        "      start = pm.find_MAP()\n",
        "      step = pm.Metropolis()\n",
        "      trace = pm.sample(len(subset_shots), step=step, start=start)\n",
        "      summary_stats = az.summary(trace, var_names=['theta'], hdi_prob=0.95)\n",
        "      mean = summary_stats.loc['theta', 'mean']\n",
        "      hdi_lower = summary_stats.loc['theta', 'hdi_2.5%']\n",
        "      hdi_upper = summary_stats.loc['theta', 'hdi_97.5%']\n",
        "\n",
        "    mean_arr.append(mean)\n",
        "    hdi_lower_arr.append(hdi_lower)\n",
        "    hdi_upper_arr.append(hdi_upper)\n",
        "\n",
        "  return mean_arr, hdi_lower_arr, hdi_upper_arr"
      ]
    },
    {
      "cell_type": "code",
      "execution_count": null,
      "metadata": {
        "id": "zQYHRiq2ucTO"
      },
      "outputs": [],
      "source": [
        "def kalman(mean, burnin):\n",
        "  kf = KalmanFilter(dim_x=1, dim_z=1)\n",
        "  kf.F = np.array([[1.]])\n",
        "  kf.H = np.array([[1.]])\n",
        "\n",
        "  q_var = np.var(mean[:burnin])\n",
        "  initial_r_var = q_var\n",
        "  kf.Q = np.array([[q_var]])\n",
        "  kf.R = np.array([[q_var]])\n",
        "\n",
        "  x_rest = list()\n",
        "  kf.x = np.array([0])\n",
        "  kf.P *= 10.\n",
        "  test = mean[burnin:]\n",
        "  decay_rate = .01\n",
        "  for i, y in enumerate(test[:-1]):\n",
        "    kf.predict()\n",
        "\n",
        "    #Weighting\n",
        "    weight = np.exp(decay_rate * i)\n",
        "    kf.R = np.array([[initial_r_var / weight]])\n",
        "\n",
        "    x_rest.append(kf.x[0])\n",
        "    kf.update([y])\n",
        "\n",
        "  return [0] + list(mean[:burnin]) + x_rest\n",
        "\n"
      ]
    },
    {
      "cell_type": "code",
      "execution_count": null,
      "metadata": {
        "id": "ptsxn-JZ4IPi"
      },
      "outputs": [],
      "source": [
        "def kBP(player_id, stepsize=100, burnin=10):\n",
        "  mean, hdi_lower, hdi_upper = b3P_arr(player_id, stepsize)\n",
        "  xs = kalman(mean, burnin)\n",
        "  return xs[-1]"
      ]
    },
    {
      "cell_type": "code",
      "execution_count": null,
      "metadata": {
        "id": "sv_8Xo4o5Oqx"
      },
      "outputs": [],
      "source": [
        "xs, hdi_lower, hdi_upper = kBP(1629636)"
      ]
    },
    {
      "cell_type": "code",
      "execution_count": null,
      "metadata": {
        "id": "-jcvoXXL5SyX",
        "colab": {
          "base_uri": "https://localhost:8080/"
        },
        "outputId": "9d2eed36-e0c1-4287-9a52-a820bec21a82"
      },
      "outputs": [
        {
          "output_type": "execute_result",
          "data": {
            "text/plain": [
              "0.3838061488907534"
            ]
          },
          "metadata": {},
          "execution_count": 59
        }
      ],
      "source": [
        "xs[-1]"
      ]
    },
    {
      "cell_type": "code",
      "source": [
        "xs"
      ],
      "metadata": {
        "colab": {
          "base_uri": "https://localhost:8080/"
        },
        "id": "SU3NMYIPD5Yr",
        "outputId": "4e302bed-9507-4959-fb6e-4065f8bd23a7"
      },
      "execution_count": null,
      "outputs": [
        {
          "output_type": "execute_result",
          "data": {
            "text/plain": [
              "[0,\n",
              " 0.384,\n",
              " 0.384,\n",
              " 0.385,\n",
              " 0.383,\n",
              " 0.384,\n",
              " 0.385,\n",
              " 0.384,\n",
              " 0.385,\n",
              " 0.384,\n",
              " 0.384,\n",
              " 0.0,\n",
              " 0.383999986176001,\n",
              " 0.38399999542266894,\n",
              " 0.38399999830205656,\n",
              " 0.3846248817342444,\n",
              " 0.38423386525985403,\n",
              " 0.38408715568519686,\n",
              " 0.38466134087750237,\n",
              " 0.384874933689044,\n",
              " 0.3849540252692474,\n",
              " 0.38434908551129227,\n",
              " 0.38412714196653125,\n",
              " 0.3840460917574501,\n",
              " 0.3840166313281848,\n",
              " 0.38400597299276007,\n",
              " 0.38400213506197317,\n",
              " 0.3840007595816514,\n",
              " 0.3840002689527286,\n",
              " 0.3840000947778751,\n",
              " 0.3846493196955398,\n",
              " 0.3842266337730107,\n",
              " 0.38473136861818324,\n",
              " 0.3849071406273674,\n",
              " 0.3843120563504994,\n",
              " 0.3847644990721901,\n",
              " 0.38426042939244004,\n",
              " 0.38474929795608914,\n",
              " 0.3842527492546379,\n",
              " 0.3840848348349026,\n",
              " 0.3840283334487312,\n",
              " 0.3840094158042456,\n",
              " 0.3840031134366048,\n",
              " 0.3853430194981119,\n",
              " 0.38443963243718793,\n",
              " 0.3841431849256944,\n",
              " 0.38404639774292604,\n",
              " 0.3840149582301962,\n",
              " 0.3840047977673052,\n",
              " 0.3846824312797478,\n",
              " 0.3842166429205242,\n",
              " 0.3847526019162478,\n",
              " 0.38423645289450736,\n",
              " 0.3840739023880797,\n",
              " 0.3840229772786837,\n",
              " 0.3840071065160992,\n",
              " 0.38400218637510974,\n",
              " 0.3833067029406944,\n",
              " 0.3837889516064746,\n",
              " 0.38393609575402904,\n",
              " 0.3839807533978451,\n",
              " 0.38399423436923363,\n",
              " 0.3839982820928223,\n",
              " 0.3839994908985028,\n",
              " 0.38399984994427716,\n",
              " 0.3839999560118241,\n",
              " 0.383999987175329,\n",
              " 0.38399999628143755,\n",
              " 0.38399999892770526,\n",
              " 0.3839999996924929,\n",
              " 0.3847148096950499,\n",
              " 0.38491911748490465,\n",
              " 0.38497718862476005,\n",
              " 0.38499360240293845,\n",
              " 0.3842771011333641,\n",
              " 0.384076845047422,\n",
              " 0.3840211902964111,\n",
              " 0.38473161722621424,\n",
              " 0.3841994652146122,\n",
              " 0.38405407156523763,\n",
              " 0.38474504106796087,\n",
              " 0.384199661344499,\n",
              " 0.3840531987279931,\n",
              " 0.3832789990413382,\n",
              " 0.38381010872712407,\n",
              " 0.38321211965076396,\n",
              " 0.383794903644967,\n",
              " 0.38320571402196707,\n",
              " 0.3845383801691047,\n",
              " 0.3841376945947036,\n",
              " 0.3840350083329218,\n",
              " 0.38475610861379184,\n",
              " 0.384189962163723,\n",
              " 0.38479770277981784,\n",
              " 0.3841980245668259,\n",
              " 0.3840488632181467,\n",
              " 0.38401198455088936,\n",
              " 0.3832467072784089,\n",
              " 0.38305977920123185,\n",
              " 0.3837735617692542,\n",
              " 0.3831851647627301,\n",
              " 0.3838061488907534]"
            ]
          },
          "metadata": {},
          "execution_count": 60
        }
      ]
    },
    {
      "cell_type": "code",
      "source": [],
      "metadata": {
        "id": "H73ojznAQLJB"
      },
      "execution_count": null,
      "outputs": []
    }
  ],
  "metadata": {
    "colab": {
      "machine_shape": "hm",
      "provenance": []
    },
    "kernelspec": {
      "display_name": "Python 3",
      "name": "python3"
    },
    "language_info": {
      "name": "python"
    }
  },
  "nbformat": 4,
  "nbformat_minor": 0
}