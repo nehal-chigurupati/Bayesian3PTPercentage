{
 "cells": [
  {
   "cell_type": "code",
   "execution_count": 1,
   "id": "83884464-36a0-490b-99e6-be577a259ca6",
   "metadata": {},
   "outputs": [],
   "source": [
    "import pandas as pd\n",
    "from src import bayesian_3pt_percentage_with_credible_interval\n",
    "from sqlalchemy import create_engine"
   ]
  },
  {
   "cell_type": "code",
   "execution_count": 2,
   "id": "1e8b8b48-1373-47d1-8af4-5913d3c4dd88",
   "metadata": {},
   "outputs": [],
   "source": [
    "engine = create_engine(\"sqlite:///Data/player_database.db\")\n",
    "input_data = pd.read_sql(\"BAYESIAN_3PT_INPUT_2023_24\", engine)\n",
    "input_data = input_data.dropna()"
   ]
  },
  {
   "cell_type": "code",
   "execution_count": 18,
   "id": "ebe7f7df",
   "metadata": {},
   "outputs": [],
   "source": [
    "players = []\n",
    "bayesian_three_perc = []\n",
    "lower_bounds = []\n",
    "upper_bounds = []"
   ]
  },
  {
   "cell_type": "code",
   "execution_count": 19,
   "id": "ef5f6b02-4268-4536-b48b-c2207c88f1d5",
   "metadata": {},
   "outputs": [],
   "source": [
    "for index, row in input_data.iterrows():\n",
    "    if row[\"SEASON_3PA\"] > 0:\n",
    "        players.append(str(int(row[\"PLAYER_ID\"])))\n",
    "        perc, lower_bound, upper_bound = bayesian_3pt_percentage_with_credible_interval(float(row[\"HISTORICAL_3P%\"]), row[\"SEASON_3PA\"], row[\"SEASON_3PM\"])\n",
    "        bayesian_three_perc.append(perc)\n",
    "        lower_bounds.append(lower_bound)\n",
    "        upper_bounds.append(upper_bound)"
   ]
  },
  {
   "cell_type": "code",
   "execution_count": 20,
   "id": "f91f7e5c-6391-40f9-ac2e-16daeba038c5",
   "metadata": {},
   "outputs": [
    {
     "data": {
      "text/plain": [
       "470"
      ]
     },
     "execution_count": 20,
     "metadata": {},
     "output_type": "execute_result"
    }
   ],
   "source": [
    "out_dict = {\"PLAYER\": players, \"3P%\": bayesian_three_perc, \"LOWER_BOUND\": lower_bounds, \"UPPER_BOUND\": upper_bounds}\n",
    "df = pd.DataFrame(out_dict)\n",
    "df.to_sql(\"BAYESIAN_3PT_OUTPUT_2023_24\", con=engine, if_exists=\"replace\",index=False)"
   ]
  },
  {
   "cell_type": "code",
   "execution_count": 21,
   "id": "51fb3f7b",
   "metadata": {},
   "outputs": [
    {
     "name": "stdout",
     "output_type": "stream",
     "text": [
      "      PLAYER       3P%  LOWER_BOUND  UPPER_BOUND\n",
      "0    1630173  0.320755     0.223223     0.418418\n",
      "1    1628389  0.129731     0.035035     0.227227\n",
      "2    1630534  0.355263     0.257257     0.453453\n",
      "3    1630583  0.318471     0.220220     0.416416\n",
      "4    1629638  0.337296     0.239239     0.435435\n",
      "..       ...       ...          ...          ...\n",
      "465  1626174  0.378037     0.280280     0.476476\n",
      "466  1626153  0.348142     0.250250     0.446446\n",
      "467  1629027  0.351212     0.253253     0.449449\n",
      "468  1630209  0.222223     0.124124     0.320320\n",
      "469   203469  0.217689     0.120120     0.315315\n",
      "\n",
      "[470 rows x 4 columns]\n"
     ]
    }
   ],
   "source": [
    "print(df)"
   ]
  },
  {
   "cell_type": "code",
   "execution_count": 22,
   "id": "7d22af73",
   "metadata": {},
   "outputs": [
    {
     "name": "stdout",
     "output_type": "stream",
     "text": [
      "    PLAYER       3P%  LOWER_BOUND  UPPER_BOUND\n",
      "201   2544  0.344507     0.246246     0.442442\n"
     ]
    }
   ],
   "source": [
    "print(df[df[\"PLAYER\"] == \"2544\"])"
   ]
  },
  {
   "cell_type": "code",
   "execution_count": null,
   "id": "1171ddb5",
   "metadata": {},
   "outputs": [],
   "source": []
  }
 ],
 "metadata": {
  "kernelspec": {
   "display_name": "Python 3",
   "language": "python",
   "name": "python3"
  },
  "language_info": {
   "codemirror_mode": {
    "name": "ipython",
    "version": 3
   },
   "file_extension": ".py",
   "mimetype": "text/x-python",
   "name": "python",
   "nbconvert_exporter": "python",
   "pygments_lexer": "ipython3",
   "version": "3.11.4"
  }
 },
 "nbformat": 4,
 "nbformat_minor": 5
}
