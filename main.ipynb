{
 "cells": [
  {
   "cell_type": "code",
   "execution_count": 95,
   "id": "82e37628",
   "metadata": {},
   "outputs": [],
   "source": [
    "import pandas as pd\n",
    "import numpy as np\n",
    "from sqlalchemy import create_engine"
   ]
  },
  {
   "cell_type": "code",
   "execution_count": 103,
   "id": "2575d690",
   "metadata": {},
   "outputs": [],
   "source": [
    "engine = create_engine(\"sqlite:///Data/player_database.db\")\n",
    "input_data = pd.read_sql(\"BAYESIAN_3PT_INPUT_2023_24\", engine)\n",
    "bayesian_percentages = pd.read_sql(\"BAYESIAN_3PT_OUTPUT_2023_24\", engine)\n",
    "player_info = pd.read_sql(\"COMMON_PLAYER_INFO\", engine)\n",
    "free_agents = pd.read_sql(\"FREE_AGENTS_2023_24\", engine)"
   ]
  },
  {
   "cell_type": "code",
   "execution_count": 104,
   "id": "9805ded3",
   "metadata": {},
   "outputs": [],
   "source": [
    "free_agent_ids = free_agents[\"PLAYER_ID\"].tolist()"
   ]
  },
  {
   "cell_type": "code",
   "execution_count": 105,
   "id": "5342307c",
   "metadata": {},
   "outputs": [],
   "source": [
    "free_agent_data = bayesian_percentages[bayesian_percentages[\"PLAYER_ID\"].isin(free_agent_ids)]"
   ]
  },
  {
   "cell_type": "code",
   "execution_count": 106,
   "id": "4399563d",
   "metadata": {},
   "outputs": [],
   "source": [
    "#Players who are overvalued as 3PT shooters typically will have a lower Bayesian 3P% than season 3P%\n",
    "overvalued_players = free_agent_data[free_agent_data[\"BAYESIAN_3P%\"] < free_agent_data[\"SEASON_3P%\"]]\n",
    "\n",
    "#Players who are undervalued as 3PT shooters typically will have a higher Bayesian 3P% than season 3P%\n",
    "undervalued_players = free_agent_data[free_agent_data[\"BAYESIAN_3P%\"] > free_agent_data[\"SEASON_3P%\"]]"
   ]
  },
  {
   "cell_type": "code",
   "execution_count": 107,
   "id": "41b447f9",
   "metadata": {},
   "outputs": [
    {
     "data": {
      "text/plain": [
       "178"
      ]
     },
     "execution_count": 107,
     "metadata": {},
     "output_type": "execute_result"
    }
   ],
   "source": [
    "overvalued_players.to_sql(\"OVERVALUED_FREE_AGENTS_2023_24\", engine, if_exists=\"replace\", index=False)\n",
    "undervalued_players.to_sql(\"UNDERVALUED_FREE_AGENTS_2023_24\", engine, if_exists=\"replace\", index=False)\n",
    "free_agent_data.to_sql(\"FREE_AGENT_3PT_DATA\", engine, if_exists=\"replace\", index=False)"
   ]
  },
  {
   "cell_type": "code",
   "execution_count": 108,
   "id": "3471d04d",
   "metadata": {},
   "outputs": [],
   "source": [
    "overvalued_players.to_csv(\"Data/overvalued_free_agents_2023_24.csv\")\n",
    "undervalued_players.to_csv(\"Data/undervalued_free_agents_2023_24.csv\")\n",
    "free_agent_data.to_csv(\"Data/free_agent_3pt_data.csv\")"
   ]
  },
  {
   "cell_type": "code",
   "execution_count": null,
   "id": "281cf6d0",
   "metadata": {},
   "outputs": [],
   "source": []
  }
 ],
 "metadata": {
  "kernelspec": {
   "display_name": "Python 3",
   "language": "python",
   "name": "python3"
  },
  "language_info": {
   "codemirror_mode": {
    "name": "ipython",
    "version": 3
   },
   "file_extension": ".py",
   "mimetype": "text/x-python",
   "name": "python",
   "nbconvert_exporter": "python",
   "pygments_lexer": "ipython3",
   "version": "3.11.4"
  }
 },
 "nbformat": 4,
 "nbformat_minor": 5
}
