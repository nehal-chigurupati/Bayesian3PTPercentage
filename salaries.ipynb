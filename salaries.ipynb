{
 "cells": [
  {
   "cell_type": "code",
   "execution_count": 1,
   "id": "ea80136a",
   "metadata": {},
   "outputs": [],
   "source": [
    "import numpy as np\n",
    "import pandas as pd\n",
    "from sqlalchemy import create_engine"
   ]
  },
  {
   "cell_type": "code",
   "execution_count": 2,
   "id": "c30d3bea",
   "metadata": {},
   "outputs": [],
   "source": [
    "engine = create_engine(\"sqlite:///Data/player_database.db\")"
   ]
  },
  {
   "cell_type": "code",
   "execution_count": null,
   "id": "349a046b",
   "metadata": {},
   "outputs": [],
   "source": [
    "salary_data = pd.read_sql(\"PLAYER_SALARY_DATA_2023_24\", engine)"
   ]
  }
 ],
 "metadata": {
  "kernelspec": {
   "display_name": "Python 3",
   "language": "python",
   "name": "python3"
  },
  "language_info": {
   "codemirror_mode": {
    "name": "ipython",
    "version": 3
   },
   "file_extension": ".py",
   "mimetype": "text/x-python",
   "name": "python",
   "nbconvert_exporter": "python",
   "pygments_lexer": "ipython3",
   "version": "3.11.4"
  }
 },
 "nbformat": 4,
 "nbformat_minor": 5
}
