{
 "cells": [
  {
   "cell_type": "code",
   "execution_count": 1,
   "id": "83884464-36a0-490b-99e6-be577a259ca6",
   "metadata": {},
   "outputs": [],
   "source": [
    "import pandas as pd\n",
    "from src import bayesian_3pt_percentage_with_credible_interval\n",
    "from sqlalchemy import create_engine"
   ]
  },
  {
   "cell_type": "code",
   "execution_count": 61,
   "id": "1e8b8b48-1373-47d1-8af4-5913d3c4dd88",
   "metadata": {},
   "outputs": [],
   "source": [
    "engine = create_engine(\"sqlite:///Data/player_database.db\")\n",
    "input_data = pd.read_sql(\"BAYESIAN_3PT_INPUT_2023_24\", engine)\n",
    "common_player_info = pd.read_sql(\"COMMON_PLAYER_INFO\", engine)\n",
    "input_data = input_data.dropna()"
   ]
  },
  {
   "cell_type": "code",
   "execution_count": 70,
   "id": "5bb5f6c4",
   "metadata": {},
   "outputs": [],
   "source": [
    "players = []\n",
    "player_names = []\n",
    "bayesian_three_perc = []\n",
    "ordinary_three_perc = []\n",
    "historical_three_perc = []\n",
    "lower_bounds = []\n",
    "upper_bounds = []"
   ]
  },
  {
   "cell_type": "code",
   "execution_count": 71,
   "id": "ef5f6b02-4268-4536-b48b-c2207c88f1d5",
   "metadata": {},
   "outputs": [],
   "source": [
    "for index, row in input_data.iterrows():\n",
    "    if row[\"SEASON_3PA\"] > 0:\n",
    "        name_matches = common_player_info[common_player_info[\"PERSON_ID\"] == row[\"PLAYER_ID\"]][\"DISPLAY_FIRST_LAST\"].tolist()\n",
    "        if len(name_matches) == 1:\n",
    "            players.append(int(row[\"PLAYER_ID\"]))\n",
    "            player_names.append(name_matches[0])\n",
    "            perc, lower_bound, upper_bound = bayesian_3pt_percentage_with_credible_interval(float(row[\"HISTORICAL_3P%\"]), row[\"SEASON_3PA\"], row[\"SEASON_3PM\"])\n",
    "            bayesian_three_perc.append(perc)\n",
    "            lower_bounds.append(lower_bound)\n",
    "            upper_bounds.append(upper_bound)\n",
    "            ordinary_three_perc.append(row[\"SEASON_3PM\"]/row[\"SEASON_3PA\"])\n",
    "            historical_three_perc.append(row[\"HISTORICAL_3P%\"])"
   ]
  },
  {
   "cell_type": "code",
   "execution_count": 72,
   "id": "f91f7e5c-6391-40f9-ac2e-16daeba038c5",
   "metadata": {},
   "outputs": [
    {
     "data": {
      "text/plain": [
       "470"
      ]
     },
     "execution_count": 72,
     "metadata": {},
     "output_type": "execute_result"
    }
   ],
   "source": [
    "out_dict = {\"PLAYER_ID\": players, \"PLAYER\": player_names, \"BAYESIAN_3P%\": bayesian_three_perc, \"LOWER_BOUND\": lower_bounds, \"UPPER_BOUND\": upper_bounds, \"SEASON_3P%\": ordinary_three_perc, \"HISTORICAL_3P%\": historical_three_perc}\n",
    "df = pd.DataFrame(out_dict)\n",
    "df.to_sql(\"BAYESIAN_3PT_OUTPUT_2023_24\", con=engine, if_exists=\"replace\",index=False)"
   ]
  },
  {
   "cell_type": "code",
   "execution_count": 74,
   "id": "eb322c8d",
   "metadata": {},
   "outputs": [
    {
     "name": "stdout",
     "output_type": "stream",
     "text": [
      "   PLAYER_ID                    PLAYER  BAYESIAN_3P%  LOWER_BOUND  \\\n",
      "0    1630173          Precious Achiuwa      0.320755     0.223223   \n",
      "1    1628389               Bam Adebayo      0.129731     0.035035   \n",
      "2    1630534              Ochai Agbaji      0.355263     0.257257   \n",
      "3    1630583              Santi Aldama      0.318471     0.220220   \n",
      "4    1629638  Nickeil Alexander-Walker      0.337296     0.239239   \n",
      "\n",
      "   UPPER_BOUND  SEASON_3P%  HISTORICAL_3P%  \n",
      "0     0.418418    0.276596        0.320755  \n",
      "1     0.227227    0.142857        0.129032  \n",
      "2     0.453453    0.344538        0.355263  \n",
      "3     0.416416    0.352000        0.318471  \n",
      "4     0.435435    0.367188        0.337296  \n"
     ]
    }
   ],
   "source": [
    "print(df.head())"
   ]
  },
  {
   "cell_type": "code",
   "execution_count": null,
   "id": "7aa03228",
   "metadata": {},
   "outputs": [],
   "source": []
  }
 ],
 "metadata": {
  "kernelspec": {
   "display_name": "Python 3",
   "language": "python",
   "name": "python3"
  },
  "language_info": {
   "codemirror_mode": {
    "name": "ipython",
    "version": 3
   },
   "file_extension": ".py",
   "mimetype": "text/x-python",
   "name": "python",
   "nbconvert_exporter": "python",
   "pygments_lexer": "ipython3",
   "version": "3.11.4"
  }
 },
 "nbformat": 4,
 "nbformat_minor": 5
}
