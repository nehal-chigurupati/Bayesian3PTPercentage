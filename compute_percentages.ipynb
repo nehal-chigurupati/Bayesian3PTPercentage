{
 "cells": [
  {
   "cell_type": "code",
   "execution_count": 1,
   "id": "83884464-36a0-490b-99e6-be577a259ca6",
   "metadata": {},
   "outputs": [],
   "source": [
    "import numpy as np\n",
    "import pandas as pd\n",
    "from src import bayesian_3pt_percentage_with_credible_interval\n",
    "from sqlalchemy import create_engine\n",
    "from utils import mean_excluding_outliers, find_players_similar_3PCT"
   ]
  },
  {
   "cell_type": "code",
   "execution_count": 2,
   "id": "1e8b8b48-1373-47d1-8af4-5913d3c4dd88",
   "metadata": {},
   "outputs": [],
   "source": [
    "engine = create_engine(\"sqlite:///Data/player_database.db\")\n",
    "input_data = pd.read_sql(\"BAYESIAN_3PT_INPUT_2023_24\", engine)\n",
    "common_player_info = pd.read_sql(\"COMMON_PLAYER_INFO\", engine)\n",
    "player_career_stats = pd.read_sql(\"PLAYER_CAREER_STATS\", engine)\n",
    "free_agents = pd.read_sql(\"FREE_AGENTS_2023_24\", engine)\n",
    "salary_data = pd.read_sql(\"PLAYER_SALARY_DATA_2023_24\", engine)\n",
    "input_data = input_data.dropna()"
   ]
  },
  {
   "cell_type": "code",
   "execution_count": 3,
   "id": "b737e00d",
   "metadata": {},
   "outputs": [
    {
     "name": "stdout",
     "output_type": "stream",
     "text": [
      "Index(['Name'], dtype='object')\n"
     ]
    }
   ],
   "source": [
    "print(free_agents.columns)"
   ]
  },
  {
   "cell_type": "code",
   "execution_count": 4,
   "id": "2b2ae10c",
   "metadata": {},
   "outputs": [],
   "source": [
    "salary_data['2024-25'] = salary_data['2024-25'].str.replace('$', '', regex=False)\n",
    "salary_data['2024-25'] = salary_data['2024-25'].str.replace(',', '', regex=False)\n",
    "salary_data['2024-25'] = salary_data[\"2024-25\"].astype(float)"
   ]
  },
  {
   "cell_type": "code",
   "execution_count": 5,
   "id": "5bb5f6c4",
   "metadata": {},
   "outputs": [],
   "source": [
    "players = []\n",
    "player_names = []\n",
    "bayesian_three_perc = []\n",
    "ordinary_three_perc = []\n",
    "historical_three_perc = []\n",
    "lower_bounds = []\n",
    "upper_bounds = []\n",
    "avg_3pa_per_game = []\n",
    "bayesian_percentage_salary = []\n",
    "season_percentage_salary = []"
   ]
  },
  {
   "cell_type": "code",
   "execution_count": 6,
   "id": "ef5f6b02-4268-4536-b48b-c2207c88f1d5",
   "metadata": {},
   "outputs": [],
   "source": [
    "for index, row in input_data.iterrows():\n",
    "    num_seasons = len(np.unique(player_career_stats[player_career_stats[\"PLAYER_ID\"] == row[\"PLAYER_ID\"]][\"SEASON_ID\"]))\n",
    "    player_3pa = np.sum(player_career_stats[player_career_stats[\"PLAYER_ID\"] == row[\"PLAYER_ID\"]][\"FG3A\"])\n",
    "    player_avg_3pa_season = float(player_3pa)/float(num_seasons)\n",
    "    \n",
    "    \n",
    "    if row[\"SEASON_3PA\"] > 0 and player_avg_3pa_season > 250:\n",
    "        name_matches = common_player_info[common_player_info[\"PERSON_ID\"] == row[\"PLAYER_ID\"]][\"DISPLAY_FIRST_LAST\"].tolist()\n",
    "        if len(name_matches) == 1:\n",
    "            players.append(int(row[\"PLAYER_ID\"]))\n",
    "            player_names.append(name_matches[0])\n",
    "            \n",
    "            perc, lower_bound, upper_bound = bayesian_3pt_percentage_with_credible_interval(float(row[\"HISTORICAL_3P%\"]), row[\"SEASON_3PA\"], row[\"SEASON_3PM\"])\n",
    "            bayesian_three_perc.append(perc)\n",
    "            lower_bounds.append(lower_bound)\n",
    "            upper_bounds.append(upper_bound)\n",
    "            ordinary_three_perc.append(row[\"SEASON_3PM\"]/row[\"SEASON_3PA\"])\n",
    "            historical_three_perc.append(row[\"HISTORICAL_3P%\"])\n",
    "            avg_3pa_per_game.append(float(player_3pa) / (82*num_seasons))"
   ]
  },
  {
   "cell_type": "code",
   "execution_count": 7,
   "id": "95b7bb38",
   "metadata": {},
   "outputs": [],
   "source": [
    "all_players = {\"PLAYER_ID\": players, \"PLAYER\": player_names, \"BAYESIAN_3P%\": bayesian_three_perc, \"LOWER_BOUND\": lower_bounds, \"UPPER_BOUND\": upper_bounds, \"SEASON_3P%\": ordinary_three_perc, \"HISTORICAL_3P%\": historical_three_perc, \"AVG_3PA_PER_GAME\": avg_3pa_per_game}\n",
    "all_players = pd.DataFrame(all_players)"
   ]
  },
  {
   "cell_type": "code",
   "execution_count": 8,
   "id": "14580bc9",
   "metadata": {},
   "outputs": [],
   "source": [
    "#Get comparable salaries\n",
    "bayesian_comparable_salary = []\n",
    "season_comparable_salary = []\n",
    "for index, row in all_players.iterrows():\n",
    "    bayesian_comparable_players = find_players_similar_3PCT(row[\"BAYESIAN_3P%\"], all_players[[\"PLAYER\", \"BAYESIAN_3P%\"]])\n",
    "    season_comparable_players = find_players_similar_3PCT(row[\"SEASON_3P%\"], all_players[[\"PLAYER\", \"SEASON_3P%\"]])\n",
    "    \n",
    "    b_mean = mean_excluding_outliers(salary_data[salary_data[\"Player\"].isin(bayesian_comparable_players)][\"2024-25\"])\n",
    "    s_mean = mean_excluding_outliers(salary_data[salary_data[\"Player\"].isin(season_comparable_players)][\"2024-25\"])\n",
    "    bayesian_comparable_salary.append(b_mean)\n",
    "    season_comparable_salary.append(s_mean)\n",
    "\n",
    "all_players[\"B_COMP_SALARY\"] = bayesian_comparable_salary\n",
    "all_players[\"S_COMP_SALARY\"] = season_comparable_salary"
   ]
  },
  {
   "cell_type": "code",
   "execution_count": 9,
   "id": "18fabf14",
   "metadata": {},
   "outputs": [],
   "source": [
    "df = all_players[all_players[\"PLAYER\"].isin(free_agents[\"Name\"])]"
   ]
  },
  {
   "cell_type": "code",
   "execution_count": 10,
   "id": "fbec9f57",
   "metadata": {},
   "outputs": [
    {
     "name": "stdout",
     "output_type": "stream",
     "text": [
      "    PLAYER_ID             PLAYER  BAYESIAN_3P%  LOWER_BOUND  UPPER_BOUND  \\\n",
      "6      201587      Nicolas Batum      0.364918     0.169169     0.560561   \n",
      "15    1628970      Miles Bridges      0.345916     0.150150     0.541542   \n",
      "20     201144        Mike Conley      0.382334     0.186186     0.578579   \n",
      "21     203496   Robert Covington      0.361138     0.165165     0.557558   \n",
      "22     203109        Jae Crowder      0.342729     0.147147     0.538539   \n",
      "25     203915  Spencer Dinwiddie      0.339516     0.144144     0.535536   \n",
      "32     201568   Danilo Gallinari      0.379905     0.184184     0.575576   \n",
      "37     201980        Danny Green      0.400063     0.204204     0.595596   \n",
      "43     202699      Tobias Harris      0.373031     0.177177     0.568569   \n",
      "48     203200     Justin Holiday      0.359673     0.164164     0.555556   \n",
      "63     200768         Kyle Lowry      0.365344     0.169169     0.561562   \n",
      "65     202083    Wesley Matthews      0.375606     0.180180     0.571572   \n",
      "83    1627752     Taurean Prince      0.373932     0.178178     0.569570   \n",
      "89     203967        Dario Saric      0.362593     0.167167     0.558559   \n",
      "\n",
      "    SEASON_3P%  HISTORICAL_3P%  AVG_3PA_PER_GAME  B_COMP_SALARY  S_COMP_SALARY  \n",
      "6     0.285714        0.364868          3.426067   2.417374e+07   2.008444e+07  \n",
      "15    0.333333        0.345817          3.397561   2.427138e+07   2.208896e+07  \n",
      "20    0.451429        0.382308          3.426112   2.509863e+07   2.567330e+07  \n",
      "21    0.250000        0.361080          5.092018   2.439969e+07   8.375731e+06  \n",
      "22    0.516129        0.342618          4.409553   2.402404e+07   5.117902e+07  \n",
      "25    0.317972        0.339392          3.954878   2.406374e+07   1.988899e+07  \n",
      "32    0.312500        0.379876          3.561847   2.497753e+07   2.126038e+07  \n",
      "37    0.000000        0.400050          3.238211   2.605258e+07            NaN  \n",
      "43    0.356522        0.372993          4.081614   2.434069e+07   2.468150e+07  \n",
      "48    0.454545        0.359612          4.506652   2.439969e+07   2.515610e+07  \n",
      "63    0.429577        0.365294          3.996612   2.417374e+07   2.824242e+07  \n",
      "65    0.200000        0.375572          4.291057   2.453776e+07   1.900000e+07  \n",
      "83    0.391534        0.373896          3.394817   2.440055e+07   2.545070e+07  \n",
      "89    0.395522        0.362538          3.693380   2.417374e+07   2.476757e+07  \n"
     ]
    }
   ],
   "source": [
    "print(df)"
   ]
  },
  {
   "cell_type": "code",
   "execution_count": 11,
   "id": "f91f7e5c-6391-40f9-ac2e-16daeba038c5",
   "metadata": {},
   "outputs": [
    {
     "data": {
      "text/plain": [
       "14"
      ]
     },
     "execution_count": 11,
     "metadata": {},
     "output_type": "execute_result"
    }
   ],
   "source": [
    "df.to_sql(\"BAYESIAN_3PT_OUTPUT_2023_24\", con=engine, if_exists=\"replace\",index=False)"
   ]
  },
  {
   "cell_type": "code",
   "execution_count": 12,
   "id": "8feb6152",
   "metadata": {},
   "outputs": [],
   "source": [
    "df = df.dropna()"
   ]
  },
  {
   "cell_type": "code",
   "execution_count": 13,
   "id": "eb322c8d",
   "metadata": {},
   "outputs": [],
   "source": [
    "df.to_csv(\"free_agent_3pt_output_2023_24.csv\")"
   ]
  },
  {
   "cell_type": "code",
   "execution_count": 14,
   "id": "7aa03228",
   "metadata": {},
   "outputs": [
    {
     "name": "stdout",
     "output_type": "stream",
     "text": [
      "    PLAYER_ID             PLAYER  BAYESIAN_3P%  LOWER_BOUND  UPPER_BOUND  \\\n",
      "6      201587      Nicolas Batum      0.364918     0.169169     0.560561   \n",
      "15    1628970      Miles Bridges      0.345916     0.150150     0.541542   \n",
      "20     201144        Mike Conley      0.382334     0.186186     0.578579   \n",
      "21     203496   Robert Covington      0.361138     0.165165     0.557558   \n",
      "22     203109        Jae Crowder      0.342729     0.147147     0.538539   \n",
      "25     203915  Spencer Dinwiddie      0.339516     0.144144     0.535536   \n",
      "32     201568   Danilo Gallinari      0.379905     0.184184     0.575576   \n",
      "43     202699      Tobias Harris      0.373031     0.177177     0.568569   \n",
      "48     203200     Justin Holiday      0.359673     0.164164     0.555556   \n",
      "63     200768         Kyle Lowry      0.365344     0.169169     0.561562   \n",
      "65     202083    Wesley Matthews      0.375606     0.180180     0.571572   \n",
      "83    1627752     Taurean Prince      0.373932     0.178178     0.569570   \n",
      "89     203967        Dario Saric      0.362593     0.167167     0.558559   \n",
      "\n",
      "    SEASON_3P%  HISTORICAL_3P%  AVG_3PA_PER_GAME  B_COMP_SALARY  S_COMP_SALARY  \n",
      "6     0.285714        0.364868          3.426067   2.417374e+07   2.008444e+07  \n",
      "15    0.333333        0.345817          3.397561   2.427138e+07   2.208896e+07  \n",
      "20    0.451429        0.382308          3.426112   2.509863e+07   2.567330e+07  \n",
      "21    0.250000        0.361080          5.092018   2.439969e+07   8.375731e+06  \n",
      "22    0.516129        0.342618          4.409553   2.402404e+07   5.117902e+07  \n",
      "25    0.317972        0.339392          3.954878   2.406374e+07   1.988899e+07  \n",
      "32    0.312500        0.379876          3.561847   2.497753e+07   2.126038e+07  \n",
      "43    0.356522        0.372993          4.081614   2.434069e+07   2.468150e+07  \n",
      "48    0.454545        0.359612          4.506652   2.439969e+07   2.515610e+07  \n",
      "63    0.429577        0.365294          3.996612   2.417374e+07   2.824242e+07  \n",
      "65    0.200000        0.375572          4.291057   2.453776e+07   1.900000e+07  \n",
      "83    0.391534        0.373896          3.394817   2.440055e+07   2.545070e+07  \n",
      "89    0.395522        0.362538          3.693380   2.417374e+07   2.476757e+07  \n"
     ]
    }
   ],
   "source": [
    "print(df)"
   ]
  },
  {
   "cell_type": "code",
   "execution_count": null,
   "id": "a9e5313b",
   "metadata": {},
   "outputs": [],
   "source": []
  }
 ],
 "metadata": {
  "kernelspec": {
   "display_name": "Python 3",
   "language": "python",
   "name": "python3"
  },
  "language_info": {
   "codemirror_mode": {
    "name": "ipython",
    "version": 3
   },
   "file_extension": ".py",
   "mimetype": "text/x-python",
   "name": "python",
   "nbconvert_exporter": "python",
   "pygments_lexer": "ipython3",
   "version": "3.11.4"
  }
 },
 "nbformat": 4,
 "nbformat_minor": 5
}
