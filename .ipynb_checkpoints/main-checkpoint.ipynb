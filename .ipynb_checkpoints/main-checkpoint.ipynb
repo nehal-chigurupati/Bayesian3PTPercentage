{
 "cells": [
  {
   "cell_type": "code",
   "execution_count": 9,
   "id": "82e37628",
   "metadata": {},
   "outputs": [],
   "source": [
    "import pandas as pd\n",
    "import numpy as np\n",
    "from sqlalchemy import create_engine"
   ]
  },
  {
   "cell_type": "code",
   "execution_count": 89,
   "id": "2575d690",
   "metadata": {},
   "outputs": [],
   "source": [
    "engine = create_engine(\"sqlite:///Data/player_database.db\")\n",
    "input_data = pd.read_sql(\"BAYESIAN_3PT_INPUT_2023_24\", engine)\n",
    "bayesian_percentages = pd.read_sql(\"BAYESIAN_3PT_OUTPUT_2023_24\", engine)\n",
    "player_info = pd.read_sql(\"COMMON_PLAYER_INFO\", engine)\n",
    "free_agents = pd.read_sql(\"FREE_AGENTS_2023_24\", engine)"
   ]
  },
  {
   "cell_type": "code",
   "execution_count": 90,
   "id": "9805ded3",
   "metadata": {},
   "outputs": [],
   "source": [
    "free_agent_ids = free_agents[\"PLAYER_ID\"].tolist()"
   ]
  },
  {
   "cell_type": "code",
   "execution_count": 91,
   "id": "5342307c",
   "metadata": {},
   "outputs": [],
   "source": [
    "free_agent_data = bayesian_percentages[bayesian_percentages[\"PLAYER_ID\"].isin(free_agent_ids)]"
   ]
  },
  {
   "cell_type": "code",
   "execution_count": 92,
   "id": "4399563d",
   "metadata": {},
   "outputs": [],
   "source": [
    "#Players who are overvalued as 3PT shooters typically will have a lower Bayesian 3P% than season 3P%\n",
    "overvalued_players = free_agent_data[free_agent_data[\"BAYESIAN_3P%\"] < free_agent_data[\"SEASON_3P%\"]]\n",
    "\n",
    "#Players who are undervalued as 3PT shooters typically will have a higher Bayesian 3P% than season 3P%\n",
    "undervalued_players = free_agent_data[free_agent_data[\"BAYESIAN_3P%\"] > free_agent_data[\"SEASON_3P%\"]]"
   ]
  },
  {
   "cell_type": "code",
   "execution_count": 94,
   "id": "41b447f9",
   "metadata": {},
   "outputs": [
    {
     "data": {
      "text/plain": [
       "89"
      ]
     },
     "execution_count": 94,
     "metadata": {},
     "output_type": "execute_result"
    }
   ],
   "source": [
    "overvalued_players.to_sql(\"OVERVALUED_FREE_AGENTS_2023_24\", engine, if_exists=\"replace\", index=False)\n",
    "undervalued_players.to_sql(\"UNDERVALUED_FREE_AGENTS_2023_24\", engine, if_exists=\"replace\", index=False)"
   ]
  },
  {
   "cell_type": "code",
   "execution_count": null,
   "id": "3471d04d",
   "metadata": {},
   "outputs": [],
   "source": []
  }
 ],
 "metadata": {
  "kernelspec": {
   "display_name": "Python 3",
   "language": "python",
   "name": "python3"
  },
  "language_info": {
   "codemirror_mode": {
    "name": "ipython",
    "version": 3
   },
   "file_extension": ".py",
   "mimetype": "text/x-python",
   "name": "python",
   "nbconvert_exporter": "python",
   "pygments_lexer": "ipython3",
   "version": "3.11.4"
  }
 },
 "nbformat": 4,
 "nbformat_minor": 5
}
