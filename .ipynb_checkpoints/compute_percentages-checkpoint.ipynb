{
 "cells": [
  {
   "cell_type": "code",
   "execution_count": 1,
   "id": "83884464-36a0-490b-99e6-be577a259ca6",
   "metadata": {},
   "outputs": [],
   "source": [
    "import numpy as np\n",
    "import pandas as pd\n",
    "from src import bayesian_3pt_percentage_with_credible_interval\n",
    "from sqlalchemy import create_engine\n",
    "from utils import mean_excluding_outliers, find_players_similar_3PCT"
   ]
  },
  {
   "cell_type": "code",
   "execution_count": 2,
   "id": "1e8b8b48-1373-47d1-8af4-5913d3c4dd88",
   "metadata": {},
   "outputs": [],
   "source": [
    "engine = create_engine(\"sqlite:///Data/player_database.db\")\n",
    "input_data = pd.read_sql(\"BAYESIAN_3PT_INPUT_2023_24\", engine)\n",
    "common_player_info = pd.read_sql(\"COMMON_PLAYER_INFO\", engine)\n",
    "player_career_stats = pd.read_sql(\"PLAYER_CAREER_STATS\", engine)\n",
    "free_agents = pd.read_sql(\"FREE_AGENTS_2023_24\", engine)\n",
    "salary_data = pd.read_sql(\"PLAYER_SALARY_DATA_2023_24\", engine)\n",
    "input_data = input_data.dropna()"
   ]
  },
  {
   "cell_type": "code",
   "execution_count": 3,
   "id": "da0f7c34",
   "metadata": {},
   "outputs": [
    {
     "name": "stdout",
     "output_type": "stream",
     "text": [
      "Index(['Name'], dtype='object')\n"
     ]
    }
   ],
   "source": [
    "print(free_agents.columns)"
   ]
  },
  {
   "cell_type": "code",
   "execution_count": 4,
   "id": "4b8fcd7a",
   "metadata": {},
   "outputs": [],
   "source": [
    "salary_data['2024-25'] = salary_data['2024-25'].str.replace('$', '', regex=False)\n",
    "salary_data['2024-25'] = salary_data['2024-25'].str.replace(',', '', regex=False)\n",
    "salary_data['2024-25'] = salary_data[\"2024-25\"].astype(float)"
   ]
  },
  {
   "cell_type": "code",
   "execution_count": 5,
   "id": "5bb5f6c4",
   "metadata": {},
   "outputs": [],
   "source": [
    "players = []\n",
    "player_names = []\n",
    "bayesian_three_perc = []\n",
    "ordinary_three_perc = []\n",
    "historical_three_perc = []\n",
    "lower_bounds = []\n",
    "upper_bounds = []\n",
    "avg_3pa_per_game = []\n",
    "bayesian_percentage_salary = []\n",
    "season_percentage_salary = []"
   ]
  },
  {
   "cell_type": "code",
   "execution_count": 6,
   "id": "ef5f6b02-4268-4536-b48b-c2207c88f1d5",
   "metadata": {},
   "outputs": [],
   "source": [
    "for index, row in input_data.iterrows():\n",
    "    num_seasons = len(np.unique(player_career_stats[player_career_stats[\"PLAYER_ID\"] == row[\"PLAYER_ID\"]][\"SEASON_ID\"]))\n",
    "    player_3pa = np.sum(player_career_stats[player_career_stats[\"PLAYER_ID\"] == row[\"PLAYER_ID\"]][\"FG3A\"])\n",
    "    player_avg_3pa_season = float(player_3pa)/float(num_seasons)\n",
    "    \n",
    "    \n",
    "    if row[\"SEASON_3PA\"] > 0 and player_avg_3pa_season > 250:\n",
    "        name_matches = common_player_info[common_player_info[\"PERSON_ID\"] == row[\"PLAYER_ID\"]][\"DISPLAY_FIRST_LAST\"].tolist()\n",
    "        if len(name_matches) == 1:\n",
    "            players.append(int(row[\"PLAYER_ID\"]))\n",
    "            player_names.append(name_matches[0])\n",
    "            \n",
    "            perc, lower_bound, upper_bound = bayesian_3pt_percentage_with_credible_interval(float(row[\"HISTORICAL_3P%\"]), row[\"SEASON_3PA\"], row[\"SEASON_3PM\"])\n",
    "            bayesian_three_perc.append(perc)\n",
    "            lower_bounds.append(lower_bound)\n",
    "            upper_bounds.append(upper_bound)\n",
    "            ordinary_three_perc.append(row[\"SEASON_3PM\"]/row[\"SEASON_3PA\"])\n",
    "            historical_three_perc.append(row[\"HISTORICAL_3P%\"])\n",
    "            avg_3pa_per_game.append(float(player_3pa) / (82*num_seasons))"
   ]
  },
  {
   "cell_type": "code",
   "execution_count": 7,
   "id": "9e4033fe",
   "metadata": {},
   "outputs": [],
   "source": [
    "all_players = {\"PLAYER_ID\": players, \"PLAYER\": player_names, \"BAYESIAN_3P%\": bayesian_three_perc, \"LOWER_BOUND\": lower_bounds, \"UPPER_BOUND\": upper_bounds, \"SEASON_3P%\": ordinary_three_perc, \"HISTORICAL_3P%\": historical_three_perc, \"AVG_3PA_PER_GAME\": avg_3pa_per_game}\n",
    "all_players = pd.DataFrame(all_players)"
   ]
  },
  {
   "cell_type": "code",
   "execution_count": 8,
   "id": "aedf6a0d",
   "metadata": {},
   "outputs": [
    {
     "ename": "NameError",
     "evalue": "name 'find_players_similar_3pct' is not defined",
     "output_type": "error",
     "traceback": [
      "\u001b[0;31m---------------------------------------------------------------------------\u001b[0m",
      "\u001b[0;31mNameError\u001b[0m                                 Traceback (most recent call last)",
      "Cell \u001b[0;32mIn[8], line 5\u001b[0m\n\u001b[1;32m      3\u001b[0m season_comparable_salary \u001b[38;5;241m=\u001b[39m []\n\u001b[1;32m      4\u001b[0m \u001b[38;5;28;01mfor\u001b[39;00m index, row \u001b[38;5;129;01min\u001b[39;00m all_players\u001b[38;5;241m.\u001b[39miterrows():\n\u001b[0;32m----> 5\u001b[0m     bayesian_comparable_players \u001b[38;5;241m=\u001b[39m \u001b[43mfind_players_similar_3pct\u001b[49m(row[\u001b[38;5;124m\"\u001b[39m\u001b[38;5;124mBAYESIAN_3P\u001b[39m\u001b[38;5;124m%\u001b[39m\u001b[38;5;124m\"\u001b[39m], all_players[[\u001b[38;5;124m\"\u001b[39m\u001b[38;5;124mPLAYER\u001b[39m\u001b[38;5;124m\"\u001b[39m, \u001b[38;5;124m\"\u001b[39m\u001b[38;5;124mBAYESIAN_3P\u001b[39m\u001b[38;5;124m%\u001b[39m\u001b[38;5;124m\"\u001b[39m]])\n\u001b[1;32m      6\u001b[0m     season_comparable_players \u001b[38;5;241m=\u001b[39m find_players_similar_3pct(row[\u001b[38;5;124m\"\u001b[39m\u001b[38;5;124mSEASON_3P\u001b[39m\u001b[38;5;124m%\u001b[39m\u001b[38;5;124m\"\u001b[39m], all_players[[\u001b[38;5;124m\"\u001b[39m\u001b[38;5;124mPLAYER\u001b[39m\u001b[38;5;124m\"\u001b[39m, \u001b[38;5;124m\"\u001b[39m\u001b[38;5;124mSEASON_3P\u001b[39m\u001b[38;5;124m%\u001b[39m\u001b[38;5;124m\"\u001b[39m]])\n\u001b[1;32m      8\u001b[0m     b_mean \u001b[38;5;241m=\u001b[39m mean_excluding_outliers(salary_data[salary_data[\u001b[38;5;124m\"\u001b[39m\u001b[38;5;124mPlayer\u001b[39m\u001b[38;5;124m\"\u001b[39m]\u001b[38;5;241m.\u001b[39misin(bayesian_comparable_players)][\u001b[38;5;124m\"\u001b[39m\u001b[38;5;124m2024-25\u001b[39m\u001b[38;5;124m\"\u001b[39m])\n",
      "\u001b[0;31mNameError\u001b[0m: name 'find_players_similar_3pct' is not defined"
     ]
    }
   ],
   "source": [
    "#Get comparable salaries\n",
    "bayesian_comparable_salary = []\n",
    "season_comparable_salary = []\n",
    "for index, row in all_players.iterrows():\n",
    "    bayesian_comparable_players = find_players_similar_3PCT(row[\"BAYESIAN_3P%\"], all_players[[\"PLAYER\", \"BAYESIAN_3P%\"]])\n",
    "    season_comparable_players = find_players_similar_3PCT(row[\"SEASON_3P%\"], all_players[[\"PLAYER\", \"SEASON_3P%\"]])\n",
    "    \n",
    "    b_mean = mean_excluding_outliers(salary_data[salary_data[\"Player\"].isin(bayesian_comparable_players)][\"2024-25\"])\n",
    "    s_mean = mean_excluding_outliers(salary_data[salary_data[\"Player\"].isin(season_comparable_players)][\"2024-25\"])\n",
    "    bayesian_comparable_salary.append(b_mean)\n",
    "    season_comparable_salary.append(s_mean)\n",
    "\n",
    "all_players[\"B_COMP_SALARY\"] = bayesian_comparable_salary\n",
    "all_players[\"S_COMP_SALARY\"] = season_comparable_salary"
   ]
  },
  {
   "cell_type": "code",
   "execution_count": null,
   "id": "277c3c31",
   "metadata": {},
   "outputs": [],
   "source": [
    "df = all_players[all_players[\"PLAYER\"].isin(free_agents[\"Name\"])]"
   ]
  },
  {
   "cell_type": "code",
   "execution_count": null,
   "id": "f91f7e5c-6391-40f9-ac2e-16daeba038c5",
   "metadata": {},
   "outputs": [],
   "source": [
    "df.to_sql(\"BAYESIAN_3PT_OUTPUT_2023_24\", con=engine, if_exists=\"replace\",index=False)"
   ]
  },
  {
   "cell_type": "code",
   "execution_count": null,
   "id": "eb322c8d",
   "metadata": {},
   "outputs": [],
   "source": [
    "df.to_csv(\"free_agent_3pt_output_2023_24.csv\")"
   ]
  },
  {
   "cell_type": "code",
   "execution_count": null,
   "id": "7aa03228",
   "metadata": {},
   "outputs": [],
   "source": []
  }
 ],
 "metadata": {
  "kernelspec": {
   "display_name": "Python 3",
   "language": "python",
   "name": "python3"
  },
  "language_info": {
   "codemirror_mode": {
    "name": "ipython",
    "version": 3
   },
   "file_extension": ".py",
   "mimetype": "text/x-python",
   "name": "python",
   "nbconvert_exporter": "python",
   "pygments_lexer": "ipython3",
   "version": "3.11.4"
  }
 },
 "nbformat": 4,
 "nbformat_minor": 5
}
